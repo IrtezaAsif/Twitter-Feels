{
 "cells": [
  {
   "cell_type": "code",
   "execution_count": 1,
   "id": "d9f7f072-16fc-4207-8da6-f65125308bf0",
   "metadata": {
    "scrolled": true
   },
   "outputs": [
    {
     "name": "stdout",
     "output_type": "stream",
     "text": [
      "Requirement already satisfied: vaderSentiment in c:\\users\\irteza asif\\appdata\\local\\programs\\python\\python39\\lib\\site-packages (3.3.2)\n",
      "Requirement already satisfied: requests in c:\\users\\irteza asif\\appdata\\local\\programs\\python\\python39\\lib\\site-packages (from vaderSentiment) (2.31.0)\n",
      "Requirement already satisfied: idna<4,>=2.5 in c:\\users\\irteza asif\\appdata\\local\\programs\\python\\python39\\lib\\site-packages (from requests->vaderSentiment) (3.4)\n",
      "Requirement already satisfied: urllib3<3,>=1.21.1 in c:\\users\\irteza asif\\appdata\\local\\programs\\python\\python39\\lib\\site-packages (from requests->vaderSentiment) (2.0.4)\n",
      "Requirement already satisfied: certifi>=2017.4.17 in c:\\users\\irteza asif\\appdata\\local\\programs\\python\\python39\\lib\\site-packages (from requests->vaderSentiment) (2023.7.22)\n",
      "Requirement already satisfied: charset-normalizer<4,>=2 in c:\\users\\irteza asif\\appdata\\local\\programs\\python\\python39\\lib\\site-packages (from requests->vaderSentiment) (3.2.0)\n",
      "Note: you may need to restart the kernel to use updated packages.\n"
     ]
    },
    {
     "name": "stderr",
     "output_type": "stream",
     "text": [
      "WARNING: You are using pip version 21.2.3; however, version 23.2.1 is available.\n",
      "You should consider upgrading via the 'C:\\Users\\Irteza Asif\\AppData\\Local\\Programs\\Python\\Python39\\python.exe -m pip install --upgrade pip' command.\n"
     ]
    }
   ],
   "source": [
    "pip install vaderSentiment"
   ]
  },
  {
   "cell_type": "code",
   "execution_count": 2,
   "id": "5f244563-53d5-48a7-9375-4baa3994c39c",
   "metadata": {},
   "outputs": [],
   "source": [
    "import tkinter as tk\n",
    "from tkinter import filedialog\n",
    "from vaderSentiment.vaderSentiment import SentimentIntensityAnalyzer"
   ]
  },
  {
   "cell_type": "code",
   "execution_count": 3,
   "id": "135d0ccf-6ea6-411f-8fb6-32861357f0f8",
   "metadata": {},
   "outputs": [],
   "source": [
    "def clearAll():\n",
    "    textArea.delete(1.0, tk.END)\n",
    "    result_label.config(text=\"\")\n"
   ]
  },
  {
   "cell_type": "code",
   "execution_count": 4,
   "id": "4e35761b-9b17-43a5-8c87-3c7fc50510f1",
   "metadata": {},
   "outputs": [],
   "source": [
    "def detect_sentiment():\n",
    "    sentence = textArea.get(\"1.0\", tk.END)\n",
    "    sid_obj = SentimentIntensityAnalyzer()\n",
    "    sentiment_dict = sid_obj.polarity_scores(sentence)\n",
    "\n",
    "    negative = sentiment_dict['neg'] * 100\n",
    "    neutral = sentiment_dict['neu'] * 100\n",
    "    positive = sentiment_dict['pos'] * 100\n",
    "\n",
    "    if sentiment_dict['compound'] >= 0.05:\n",
    "        result = \"Positive\"\n",
    "    elif sentiment_dict['compound'] <= -0.05:\n",
    "        result = \"Negative\"\n",
    "    else:\n",
    "        result = \"Neutral\"\n",
    "\n",
    "    result_label.config(text=f\"Negative: {negative:.2f}%\\nNeutral: {neutral:.2f}%\\nPositive: {positive:.2f}%\\nOverall: {result}\")\n",
    "    next_page_button.pack(pady=10, anchor=\"w\")"
   ]
  },
  {
   "cell_type": "code",
   "execution_count": 5,
   "id": "e53f9bb4-40a1-40c3-a28e-553ff81c93fa",
   "metadata": {},
   "outputs": [],
   "source": [
    "def open_file():\n",
    "    file_path = filedialog.askopenfilename(filetypes=[(\"Text Files\", \"*.txt\")])\n",
    "    if file_path:\n",
    "        with open(file_path, 'r') as file:\n",
    "            file_contents = file.read()\n",
    "        textArea.delete(1.0, tk.END)\n",
    "        textArea.insert(tk.END, file_contents)\n",
    "\n",
    "def proceed_to_page2():\n",
    "    page1_frame.pack_forget()\n",
    "    page2_frame.pack()\n",
    "\n",
    "def proceed_to_page3():\n",
    "    page2_frame.pack_forget()\n",
    "    page3_frame.pack()\n",
    "\n",
    "def proceed_to_last_page():\n",
    "    page3_frame.pack_forget()\n",
    "    page4_frame.pack()\n",
    "    gui.destroy()  "
   ]
  },
  {
   "cell_type": "code",
   "execution_count": 6,
   "id": "92151073-69b8-4a09-bc9f-05f5d8bb8146",
   "metadata": {},
   "outputs": [],
   "source": [
    "if __name__ == \"__main__\":\n",
    "    gui = tk.Tk()\n",
    "    gui.config(background=\"blue\")  \n",
    "    gui.title(\"TwitterFeels\")\n",
    "\n",
    "    \n",
    "    gui.geometry(\"1920x1080\")\n",
    "\n",
    "    # Page 1: Title Page\n",
    "    page1_frame = tk.Frame(gui)\n",
    "    page1_frame.pack(expand=True, fill=\"both\")\n",
    "\n",
    "    title_label = tk.Label(page1_frame, text=\"TwitterFeels\", bg=\"blue\", font=(\"Helvetica\", 48), fg=\"white\")\n",
    "    title_label.pack(pady=100)\n",
    "\n",
    "    enter_button = tk.Button(page1_frame, text=\"Enter\", fg=\"Black\", bg=\"Yellow\", font=(\"Helvetica\", 24), command=proceed_to_page2) \n",
    "    enter_button.pack()\n",
    "\n",
    "    made_by_label = tk.Label(page1_frame, text=\"Made By: Muhammad Irteza Asif And Areeba Asif\", bg=\"blue\", font=(\"Helvetica\", 18), fg=\"white\")\n",
    "    made_by_label.pack(pady=30)\n",
    "\n",
    "    # Page 2: Sentiment Analysis Page\n",
    "    page2_frame = tk.Frame(gui)\n",
    "    page2_frame.pack(expand=True, fill=\"both\")\n",
    "    page2_frame.pack_forget()\n",
    "\n",
    "    title_label2 = tk.Label(page2_frame, text=\"Twitter Sentiment Analysis\", bg=\"blue\", font=(\"Helvetica\", 36), fg=\"white\")\n",
    "    title_label2.pack(pady=50)\n",
    "\n",
    "    textArea = tk.Text(page2_frame, height=10, width=40, font=(\"lucida\", 24))\n",
    "    textArea.pack(padx=20, pady=20)\n",
    "\n",
    "    analyze_button = tk.Button(page2_frame, text=\"Analyze Sentiment\", fg=\"Black\", bg=\"Yellow\", font=(\"Helvetica\", 24), command=detect_sentiment)\n",
    "    analyze_button.pack()\n",
    "\n",
    "    open_file_button = tk.Button(page2_frame, text=\"Open Text File\", fg=\"Black\", bg=\"Yellow\", font=(\"Helvetica\", 24), command=open_file)\n",
    "    open_file_button.pack()\n",
    "\n",
    "    result_label = tk.Label(page2_frame, text=\"\", font=(\"Helvetica\", 28))\n",
    "    result_label.pack(pady=20)\n",
    "\n",
    "    next_page_button = tk.Button(page2_frame, text=\"Next Page\", fg=\"Black\", bg=\"Yellow\", font=(\"Helvetica\", 24), command=proceed_to_page3)\n",
    "\n",
    "    # Page 3: Thank You Page\n",
    "    page3_frame = tk.Frame(gui)\n",
    "    page3_frame.pack(expand=True, fill=\"both\")\n",
    "    page3_frame.pack_forget()\n",
    "\n",
    "    thanks_label = tk.Label(page3_frame, text=\"Thanks for using :)\", font=(\"italic bold\", 36))\n",
    "    thanks_label.pack(pady=100)\n",
    "\n",
    "    done_button = tk.Button(page3_frame, text=\"Done\", fg=\"Black\", bg=\"Yellow\", font=(\"Helvetica\", 24), command=proceed_to_last_page)\n",
    "    done_button.pack()\n",
    "\n",
    "    # Page 4: Final Page\n",
    "    page4_frame = tk.Frame(gui)\n",
    "    page4_frame.pack(expand=True, fill=\"both\")\n",
    "    page4_frame.pack_forget()\n",
    "\n",
    "    final_label = tk.Label(page4_frame, text=\"Thank you for using TwitterFeels!\", bg=\"blue\", font=(\"italic bold\", 36), fg=\"white\")\n",
    "    final_label.pack(pady=100)\n",
    "\n",
    "    gui.mainloop()\n"
   ]
  },
  {
   "cell_type": "code",
   "execution_count": null,
   "id": "19d2b9cd-346c-4a81-a56d-7f0ed69b029f",
   "metadata": {},
   "outputs": [],
   "source": []
  }
 ],
 "metadata": {
  "kernelspec": {
   "display_name": "Python 3 (ipykernel)",
   "language": "python",
   "name": "python3"
  },
  "language_info": {
   "codemirror_mode": {
    "name": "ipython",
    "version": 3
   },
   "file_extension": ".py",
   "mimetype": "text/x-python",
   "name": "python",
   "nbconvert_exporter": "python",
   "pygments_lexer": "ipython3",
   "version": "3.9.7"
  }
 },
 "nbformat": 4,
 "nbformat_minor": 5
}
